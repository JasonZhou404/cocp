{
 "cells": [
  {
   "cell_type": "code",
   "execution_count": null,
   "metadata": {},
   "outputs": [],
   "source": [
    "%load_ext autoreload"
   ]
  },
  {
   "cell_type": "code",
   "execution_count": null,
   "metadata": {},
   "outputs": [],
   "source": [
    "%autoreload\n",
    "\n",
    "import cvxpy as cp\n",
    "from cvxpylayers.torch import CvxpyLayer\n",
    "import numpy as np\n",
    "import matplotlib.pyplot as plt\n",
    "import pandas as pd\n",
    "import scipy.linalg\n",
    "import seaborn as sns\n",
    "import torch\n",
    "from tqdm.notebook import tqdm\n",
    "from utils import latexify\n",
    "\n",
    "torch.set_default_tensor_type(torch.DoubleTensor)"
   ]
  },
  {
   "cell_type": "code",
   "execution_count": null,
   "metadata": {},
   "outputs": [],
   "source": [
    "latexify(6, 4)"
   ]
  },
  {
   "cell_type": "code",
   "execution_count": null,
   "metadata": {},
   "outputs": [],
   "source": [
    "data = pd.read_csv('data/crsp.csv')\n",
    "ETFS = ['AGG', 'VTI', 'VNQ', 'XLF', 'XLV', 'XLY', 'XLP', 'XLU', 'XLI', 'XLE', 'IBB', 'ITA']\n",
    "rets = []\n",
    "\n",
    "for etf in ETFS:\n",
    "    rets.append(1 + np.array(data[data['TICKER'] == etf]['RET'], dtype=np.float64)[-144:])\n",
    "    \n",
    "etf_ret = np.stack(rets, axis=1)"
   ]
  },
  {
   "cell_type": "code",
   "execution_count": null,
   "metadata": {},
   "outputs": [],
   "source": [
    "N_ASSETS = len(ETFS)\n",
    "HZN = 24\n",
    "VAL = 2443\n",
    "TEST = VAL * 3\n",
    "KAPPA = np.full(N_ASSETS, 0.001)\n",
    "SHORT = np.full(N_ASSETS, 0.001)\n",
    "GAMMA = 15.0\n",
    "\n",
    "M1 = torch.tensor(2.0)\n",
    "M2 = torch.tensor(1.00)\n",
    "len(ETFS)"
   ]
  },
  {
   "cell_type": "code",
   "execution_count": null,
   "metadata": {},
   "outputs": [],
   "source": [
    "def ret_and_cov(returns):\n",
    "    N = returns.shape[1]\n",
    "    returnslog = np.log(returns)\n",
    "    mu_returnslog = np.mean(returnslog, axis=0)\n",
    "    cov_returnslog = np.cov(returnslog.T) + 1e-10 * np.eye(N)\n",
    "\n",
    "    mu = np.exp(mu_returnslog + .5 * np.diag(cov_returnslog))\n",
    "    cov = np.diag(mu)@(np.exp(cov_returnslog)-np.ones((N,N)))@np.diag(mu)\n",
    "    return mu, cov\n",
    "\n",
    "MU, COV = ret_and_cov(etf_ret)\n",
    "COV_SQRT = scipy.linalg.sqrtm(COV)\n",
    "\n",
    "mulog = torch.tensor(np.log(etf_ret)).mean(axis=0)\n",
    "covlog = torch.tensor(np.cov(etf_ret.T))"
   ]
  },
  {
   "cell_type": "code",
   "execution_count": null,
   "metadata": {},
   "outputs": [],
   "source": [
    "def init_holdings(cov_sqrt, mu, gamma):\n",
    "    N = N_ASSETS\n",
    "    ht = cp.Variable(N)   \n",
    "    \n",
    "                                                                                                                                                        \n",
    "    risk = gamma * cp.sum_squares(cov_sqrt @ ht)\n",
    "    returns = mu.T @ ht\n",
    "    objective = returns - risk - SHORT.T @ cp.neg(ht)\n",
    "                                                                                \n",
    "    constraints = [                                                             \n",
    "        cp.sum(ht) == 1,\n",
    "    ]                                                                            \n",
    "    problem = cp.Problem(cp.Maximize(objective), constraints)\n",
    "    problem.solve()\n",
    "    return ht.value\n",
    "\n",
    "H0 = torch.tensor(init_holdings(COV_SQRT, MU, GAMMA))"
   ]
  },
  {
   "cell_type": "code",
   "execution_count": null,
   "metadata": {},
   "outputs": [],
   "source": [
    "plt.imshow(COV)\n",
    "plt.colorbar()\n",
    "plt.xticks(np.arange(N_ASSETS), ETFS, rotation=90)\n",
    "plt.yticks(np.arange(N_ASSETS), ETFS)\n",
    "plt.show()"
   ]
  },
  {
   "cell_type": "code",
   "execution_count": null,
   "metadata": {},
   "outputs": [],
   "source": [
    "def plot_mean_std(mu, cov):\n",
    "    ax = plt.gca()\n",
    "    eb = plt.errorbar(np.arange(N_ASSETS), mu, yerr=np.sqrt(np.diag(cov)))\n",
    "    eb[-1][0].set_linestyle('--')\n",
    "    ax.axhline(1.0, linestyle='--', color='gray')\n",
    "    plt.xticks(np.arange(N_ASSETS), ETFS, rotation=90)\n",
    "    \n",
    "plot_mean_std(MU, COV)\n",
    "plt.show()"
   ]
  },
  {
   "cell_type": "code",
   "execution_count": null,
   "metadata": {},
   "outputs": [],
   "source": [
    "kappa_tch = torch.from_numpy(KAPPA)\n",
    "logreturn1p_dist = torch.distributions.MultivariateNormal(\n",
    "    mulog, covlog)\n",
    "\n",
    "\n",
    "def utility_fn(x, m1=M1, m2=M2):\n",
    "    return torch.min(m1*(x - 1), m2*(x - 1))                                                  \n",
    "\n",
    "\n",
    "def stage_cost(r):                                                       \n",
    "    return -utility_fn(r)\n",
    "\n",
    "\n",
    "def simulate(ht, ut):\n",
    "    ret = torch.exp(logreturn1p_dist.sample())\n",
    "    ht = ret * (ht + ut)\n",
    "    return ht, ret\n",
    "\n",
    "\n",
    "def rollout(policy, h0=H0, seed=None):\n",
    "    if seed is not None:\n",
    "        torch.manual_seed(seed)\n",
    "    ht = h0                                                                    \n",
    "    h_seq = [ht]                                                               \n",
    "    u_seq = []    \n",
    "    rets = []\n",
    "    cost = 0.0\n",
    "    for t in range(HZN):                                                    \n",
    "        ut = policy(ht)\n",
    "        htp1, _ = simulate(ht, ut)\n",
    "        ret = htp1.sum() / ht.sum()\n",
    "        cost += stage_cost(ret).mean()\n",
    "        ht = htp1\n",
    "        h_seq.append(ht)                                                        \n",
    "        u_seq.append(ut)\n",
    "        rets.append(ret)\n",
    "    cost = cost / HZN\n",
    "    return cost, h_seq, u_seq, rets\n",
    "\n",
    "\n",
    "def monte_carlo(policy, h0=H0, trials=10, seed=None, verbose=True):\n",
    "    if seed is not None:\n",
    "        torch.manual_seed(seed)\n",
    "    results = []\n",
    "    hN = []\n",
    "    \n",
    "    if verbose:\n",
    "        wrapper = lambda x: tqdm(x)\n",
    "    else:\n",
    "        wrapper = lambda x: x\n",
    "    \n",
    "    for i in wrapper(range(trials)):\n",
    "        cost, h_seq, _, rets = rollout(policy, h0)\n",
    "        results.append(cost)\n",
    "        hN.append(h_seq[-1])\n",
    "    return torch.stack(results), hN, rets"
   ]
  },
  {
   "cell_type": "code",
   "execution_count": null,
   "metadata": {},
   "outputs": [],
   "source": [
    "ax = plt.gca()\n",
    "plt.plot(np.linspace(0.9, 1.1, 1000), [utility_fn(x) for x in np.linspace(.9, 1.1, 1000)])\n",
    "ax.axvline(1, color='gray', linestyle='--')\n",
    "plt.show()"
   ]
  },
  {
   "cell_type": "code",
   "execution_count": null,
   "metadata": {},
   "outputs": [],
   "source": [
    "def plot_states(policy, ax=None, h0=H0, seed=TEST, style={},\n",
    "                legend=False, ylabel=True, xlabel=True):\n",
    "    if ax is None:\n",
    "        ax = plt.gca()\n",
    "    colors = sns.color_palette(\"hls\", N_ASSETS)\n",
    "    _, states, _, _ = rollout(policy, h0=h0, seed=seed)\n",
    "    normalized = [s / s.sum() for s in states]\n",
    "    states_stacked = torch.stack(normalized)\n",
    "    states_np = states_stacked.detach().numpy()\n",
    "    for i, etf in enumerate(ETFS):\n",
    "        holdings = states_np[:, i]\n",
    "        if etf in style:\n",
    "            ax.plot(holdings, label=etf, linestyle=style[etf], color=colors[i])\n",
    "        else:\n",
    "            ax.plot(holdings, label=etf, color=colors[i])\n",
    "    if xlabel:\n",
    "        ax.set_xlabel(\"month\")\n",
    "    if ylabel:\n",
    "        ax.set_ylabel(\"holdings\")\n",
    "    ax.set_xticks(np.arange(HZN, step=4))\n",
    "    ax.set_xlim((0, HZN))\n",
    "    ax.set_ylim((-.75, .95))\n",
    "    if legend:\n",
    "        ax.legend(loc='center left', bbox_to_anchor=(1, 0.5), fontsize=6)\n",
    "    plt.tight_layout()\n",
    "    \n",
    "    \n",
    "def plot_controls(policy, ax=None, h0=H0, seed=TEST, style={},\n",
    "                  legend=False, ylabel=True, xlabel=True):\n",
    "    if ax is None:\n",
    "        ax = plt.gca()\n",
    "    _, states, controls, _ = rollout(policy, h0=h0, seed=seed)\n",
    "    colors = sns.color_palette(\"hls\", N_ASSETS)\n",
    "    normalized = [c / s.sum() for s, c in zip(states, controls)]\n",
    "    stacked = torch.stack(normalized)\n",
    "    controls_np = stacked.detach().numpy()\n",
    "    for i, etf in enumerate(ETFS):\n",
    "        ctrl = controls_np[:, i]\n",
    "        if etf in style:\n",
    "            ax.plot(ctrl, label=etf, linestyle=style[etf], color=colors[i])\n",
    "        else:\n",
    "            ax.plot(ctrl, label=etf, color=colors[i])\n",
    "    ax.set_xticks(np.arange(HZN, step=4))\n",
    "    ax.set_xlim((0, HZN))\n",
    "    if xlabel:\n",
    "        ax.set_xlabel('month')\n",
    "    if ylabel:\n",
    "        ax.set_ylabel('trades')\n",
    "    if legend:\n",
    "        ax.legend()\n",
    "    plt.tight_layout()"
   ]
  },
  {
   "cell_type": "code",
   "execution_count": null,
   "metadata": {},
   "outputs": [],
   "source": [
    "def construct_layer():\n",
    "    N = N_ASSETS\n",
    "    ht = cp.Parameter(N)   \n",
    "    cov_sqrt = cp.Parameter((N, N))\n",
    "    mu = cp.Parameter(N)\n",
    "    parameters = [ht, cov_sqrt, mu]                     \n",
    "                                                                                \n",
    "    ut = cp.Variable(N)                                                         \n",
    "    htp = cp.Variable(N)             \n",
    "                                                                                \n",
    "    risk = cp.sum_squares(cov_sqrt @ htp)\n",
    "    returns = mu.T @ htp\n",
    "    objective = returns - risk\n",
    "                                                                                \n",
    "    transaction_cost = KAPPA.T @ cp.abs(ut)\n",
    "    shorting_cost = SHORT.T @ cp.neg(htp)\n",
    "    constraints = [                                                             \n",
    "        cp.sum(ut) + transaction_cost + shorting_cost <= 0,                                   \n",
    "        htp == ht + ut,\n",
    "    ]                                                                            \n",
    "    problem = cp.Problem(cp.Maximize(objective), constraints)\n",
    "    return CvxpyLayer(problem, parameters, [ut])   "
   ]
  },
  {
   "cell_type": "code",
   "execution_count": null,
   "metadata": {},
   "outputs": [],
   "source": [
    "class Tuner(object):                                                       \n",
    "    def __init__(self, mu=MU, gamma=GAMMA, cov_sqrt=COV_SQRT):            \n",
    "        self.layer = construct_layer()  \n",
    "        \n",
    "        self.gamma_sqrt = torch.tensor(np.sqrt(gamma), requires_grad=True)\n",
    "        self.cov_sqrt = torch.tensor(cov_sqrt, requires_grad=True)\n",
    "        self.mu = torch.tensor(mu, requires_grad=True)\n",
    "        self.variables = [self.gamma_sqrt, self.cov_sqrt, self.mu]\n",
    "        self.solver_args= {'acceleration_lookback': 0, 'max_iters': 10000}      \n",
    "\n",
    "    def __call__(self, ht):\n",
    "        norm_ht = ht / ht.sum()\n",
    "        norm_ut = self.layer(\n",
    "            norm_ht, self.gamma_sqrt * self.cov_sqrt, self.mu,\n",
    "            solver_args=self.solver_args)[0]\n",
    "        return norm_ut * ht.sum()\n",
    "\n",
    "    def project(self):\n",
    "        self.gamma_sqrt.data = torch.max(self.gamma_sqrt, torch.tensor(0.0))\n",
    "        \n",
    "        \n",
    "untuned = Tuner(gamma=GAMMA, cov_sqrt=COV_SQRT)"
   ]
  },
  {
   "cell_type": "code",
   "execution_count": null,
   "metadata": {},
   "outputs": [],
   "source": [
    "STYLE = {\n",
    "    'AGG': '--',\n",
    "    'ITA': ':'\n",
    "}"
   ]
  },
  {
   "cell_type": "code",
   "execution_count": null,
   "metadata": {},
   "outputs": [],
   "source": [
    "def train(policy, epochs, batch_size=10, lr=1e-2, print_every=50):    \n",
    "    opt = torch.optim.SGD(policy.variables, lr=lr)                             \n",
    "    print(\"Training for {} epochs (batch size={}, lr={})\".format(epochs, batch_size, lr))\n",
    "    test_utils = []\n",
    "    \n",
    "    with torch.no_grad():\n",
    "        test_costs, _, _ = monte_carlo(policy, trials=batch_size, seed=TEST, verbose=False)\n",
    "        test_utils.append(-test_costs.mean())\n",
    "        print('start: test utility ({})'.format(test_utils[-1]))\n",
    "        \n",
    "    for epoch in tqdm(range(epochs)):  \n",
    "        \n",
    "        if (epoch + 1) % 100 == 0:\n",
    "            lr = lr / 2\n",
    "            opt = torch.optim.SGD(policy.variables, lr=lr)\n",
    "            \n",
    "        with torch.no_grad():\n",
    "            h0 = init_holdings(policy.cov_sqrt.detach().numpy(), policy.mu.detach().numpy(),\n",
    "                               policy.gamma_sqrt.detach().item()**2)\n",
    "            h0 = torch.tensor(h0)\n",
    "            \n",
    "        opt.zero_grad()\n",
    "        costs, _, _ = monte_carlo(policy, h0=h0, trials=batch_size, seed=epoch, verbose=False)\n",
    "        costs.mean().backward()\n",
    "        \n",
    "        with torch.no_grad():\n",
    "            test_costs, _, _ = monte_carlo(policy, h0=h0, trials=batch_size, seed=TEST, verbose=False)\n",
    "            test_utils.append(-test_costs.mean())\n",
    "            print('epoch {}: train utility ({}) test utility ({})'.format(\n",
    "                epoch, -costs.mean(), test_utils[-1]))\n",
    "            if epoch % print_every == 0:\n",
    "                print('\\tmu.grad.norm ', policy.mu.grad.norm().item())\n",
    "                print('\\tgamma.grad.norm ', policy.gamma_sqrt.grad.norm().item())\n",
    "                print('\\tcov_sqrt.grad.norm ', policy.cov_sqrt.grad.norm().item())\n",
    "                print('\\tgamma ', policy.gamma_sqrt.detach().item()**2)\n",
    "                plot_mean_std(policy.mu.detach().numpy(),\n",
    "                             (policy.cov_sqrt.T @ policy.cov_sqrt).detach().numpy())\n",
    "                plt.show()\n",
    "                \n",
    "                plot_states(policy, h0=h0, seed=TEST, style=STYLE, legend=True)\n",
    "                plt.show()\n",
    "                \n",
    "                plot_controls(policy, h0=h0, seed=TEST, style=STYLE)\n",
    "                plt.show()\n",
    "                \n",
    "        opt.step()\n",
    "        with torch.no_grad():                                                   \n",
    "            policy.project()                                                    \n",
    "            \n",
    "    return test_utils"
   ]
  },
  {
   "cell_type": "code",
   "execution_count": null,
   "metadata": {
    "scrolled": true
   },
   "outputs": [],
   "source": [
    "TOTAL_SIMS = 4000\n",
    "BATCH_SIZE = 10\n",
    "EPOCHS = int(TOTAL_SIMS / BATCH_SIZE)\n",
    "LR = 1e-3\n",
    "PRINT_EVERY = 100 / BATCH_SIZE\n",
    "MU_INIT = MU\n",
    "GAMMA_INIT = GAMMA\n",
    "COV_INIT = COV_SQRT\n",
    "tuned = Tuner(mu=MU_INIT, gamma=GAMMA_INIT, cov_sqrt=COV_INIT)\n",
    "test_utils = train(tuned, lr=LR, epochs=EPOCHS, batch_size=BATCH_SIZE, print_every=PRINT_EVERY)"
   ]
  },
  {
   "cell_type": "code",
   "execution_count": null,
   "metadata": {},
   "outputs": [],
   "source": [
    "tuned_h0 = init_holdings(tuned.cov_sqrt.detach().numpy(),\n",
    "                         tuned.mu.detach().numpy(),\n",
    "                         tuned.gamma_sqrt.detach().item()**2)\n",
    "tuned_h0 = torch.tensor(tuned_h0)"
   ]
  },
  {
   "cell_type": "code",
   "execution_count": null,
   "metadata": {},
   "outputs": [],
   "source": [
    "latexify(fig_width=8.0, fig_height=4.0)\n",
    "fig, axs = plt.subplots(2, 2)\n",
    "\n",
    "plot_states(untuned, ax=axs[0][0], h0=H0, seed=TEST, xlabel=False, legend=False, style=STYLE)\n",
    "plot_states(tuned, ax=axs[0][1], h0=tuned_h0, seed=TEST, ylabel=False, xlabel=False, legend=False, style=STYLE)\n",
    "\n",
    "\n",
    "plot_controls(untuned, ax=axs[1][0], h0=H0, seed=TEST, style=STYLE)\n",
    "plot_controls(tuned, ax=axs[1][1], h0=tuned_h0, seed=TEST, ylabel=False,style=STYLE)\n",
    "\n",
    "plt.savefig('mark-state-ctrl.pdf')"
   ]
  },
  {
   "cell_type": "code",
   "execution_count": null,
   "metadata": {},
   "outputs": [],
   "source": [
    "latexify(fig_width=6.5, fig_height=1.9)\n",
    "\n",
    "_, ax = plt.subplots(1, 1)\n",
    "ax.plot([-u for u in test_utils], color='black')\n",
    "ax.set_ylabel('cost')\n",
    "ax.set_xlabel('iteration')\n",
    "ax.set_yticks([-0.00425, -0.00475, -0.00525])\n",
    "plt.tight_layout()\n",
    "plt.savefig('mark-training.pdf')"
   ]
  },
  {
   "cell_type": "code",
   "execution_count": null,
   "metadata": {},
   "outputs": [],
   "source": [
    "print(ETFS)\n",
    "\n",
    "\n",
    "print(tuned.mu.detach().numpy())"
   ]
  },
  {
   "cell_type": "code",
   "execution_count": null,
   "metadata": {},
   "outputs": [],
   "source": [
    "print(MU)"
   ]
  },
  {
   "cell_type": "code",
   "execution_count": null,
   "metadata": {},
   "outputs": [],
   "source": [
    "tuned.gamma_sqrt.item()**2"
   ]
  },
  {
   "cell_type": "code",
   "execution_count": null,
   "metadata": {},
   "outputs": [],
   "source": [
    "est_cov = (tuned.cov_sqrt.T @ tuned.cov_sqrt).detach().numpy()\n",
    "np.median(np.abs((COV - est_cov) / COV))"
   ]
  },
  {
   "cell_type": "code",
   "execution_count": null,
   "metadata": {},
   "outputs": [],
   "source": [
    "latexify(fig_width=6, fig_height=4)\n",
    "\n",
    "plt.imshow(est_cov)\n",
    "plt.colorbar()\n",
    "plt.xticks(np.arange(N_ASSETS), ETFS, rotation=90)\n",
    "plt.yticks(np.arange(N_ASSETS), ETFS)\n",
    "plt.show()"
   ]
  }
 ],
 "metadata": {
  "kernelspec": {
   "display_name": "Python 3",
   "language": "python",
   "name": "python3"
  },
  "language_info": {
   "codemirror_mode": {
    "name": "ipython",
    "version": 3
   },
   "file_extension": ".py",
   "mimetype": "text/x-python",
   "name": "python",
   "nbconvert_exporter": "python",
   "pygments_lexer": "ipython3",
   "version": "3.7.5"
  }
 },
 "nbformat": 4,
 "nbformat_minor": 2
}
